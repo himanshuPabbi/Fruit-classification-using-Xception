{
 "cells": [
  {
   "cell_type": "code",
   "execution_count": 1,
   "id": "d75dc9be",
   "metadata": {},
   "outputs": [
    {
     "name": "stdout",
     "output_type": "stream",
     "text": [
      "WARNING:tensorflow:From C:\\Users\\himan\\anaconda3\\Lib\\site-packages\\keras\\src\\losses.py:2976: The name tf.losses.sparse_softmax_cross_entropy is deprecated. Please use tf.compat.v1.losses.sparse_softmax_cross_entropy instead.\n",
      "\n"
     ]
    }
   ],
   "source": [
    "import tensorflow as tf\n",
    "from tensorflow import keras\n",
    "from tensorflow.keras.models import Sequential\n",
    "from tensorflow.keras import layers as L\n",
    "from tensorflow.keras.preprocessing.image import ImageDataGenerator, img_to_array, load_img\n",
    "from tensorflow.keras.applications import Xception\n",
    "from tensorflow.keras import layers\n",
    "\n",
    "import matplotlib.pyplot as plt\n"
   ]
  },
  {
   "cell_type": "code",
   "execution_count": 2,
   "id": "9ddb8ae7",
   "metadata": {},
   "outputs": [],
   "source": [
    "TRAIN_DIR = 'C:\\\\Users\\\\himan\\\\Downloads\\\\archive (10)\\\\'"
   ]
  },
  {
   "cell_type": "code",
   "execution_count": 3,
   "id": "c1e1405f",
   "metadata": {},
   "outputs": [
    {
     "name": "stdout",
     "output_type": "stream",
     "text": [
      "Found 1814 images belonging to 7 classes.\n",
      "Found 452 images belonging to 7 classes.\n"
     ]
    }
   ],
   "source": [
    "img_datagen = ImageDataGenerator(rescale=1./255,\n",
    "                                vertical_flip=True,\n",
    "                                horizontal_flip=True,\n",
    "                                rotation_range=40,\n",
    "                                width_shift_range=0.2,\n",
    "                                height_shift_range=0.2,\n",
    "                                zoom_range=0.1,\n",
    "                                validation_split=0.2)\n",
    "\n",
    "test_datagen = ImageDataGenerator(rescale=1./255)\n",
    "\n",
    "train_generator = img_datagen.flow_from_directory(TRAIN_DIR,\n",
    "                                                 shuffle=True,\n",
    "                                                 batch_size=32,\n",
    "                                                 subset='training',\n",
    "                                                 target_size=(100, 100))\n",
    "\n",
    "valid_generator = img_datagen.flow_from_directory(TRAIN_DIR,\n",
    "                                                 shuffle=True,\n",
    "                                                 batch_size=16,\n",
    "                                                 subset='validation',\n",
    "                                                 target_size=(100, 100))"
   ]
  },
  {
   "cell_type": "code",
   "execution_count": 4,
   "id": "b6484fb3",
   "metadata": {},
   "outputs": [
    {
     "name": "stdout",
     "output_type": "stream",
     "text": [
      "WARNING:tensorflow:From C:\\Users\\himan\\anaconda3\\Lib\\site-packages\\keras\\src\\backend.py:873: The name tf.get_default_graph is deprecated. Please use tf.compat.v1.get_default_graph instead.\n",
      "\n",
      "WARNING:tensorflow:From C:\\Users\\himan\\anaconda3\\Lib\\site-packages\\keras\\src\\layers\\normalization\\batch_normalization.py:979: The name tf.nn.fused_batch_norm is deprecated. Please use tf.compat.v1.nn.fused_batch_norm instead.\n",
      "\n"
     ]
    },
    {
     "name": "stderr",
     "output_type": "stream",
     "text": [
      "WARNING:absl:`lr` is deprecated in Keras optimizer, please use `learning_rate` or use the legacy optimizer, e.g.,tf.keras.optimizers.legacy.Adam.\n"
     ]
    },
    {
     "name": "stdout",
     "output_type": "stream",
     "text": [
      "Model: \"sequential_1\"\n",
      "_________________________________________________________________\n",
      " Layer (type)                Output Shape              Param #   \n",
      "=================================================================\n",
      " xception (Functional)       (None, 3, 3, 2048)        20861480  \n",
      "                                                                 \n",
      " global_average_pooling2d (  (None, 2048)              0         \n",
      " GlobalAveragePooling2D)                                         \n",
      "                                                                 \n",
      " dense (Dense)               (None, 256)               524544    \n",
      "                                                                 \n",
      " dropout (Dropout)           (None, 256)               0         \n",
      "                                                                 \n",
      " dense_1 (Dense)             (None, 7)                 1799      \n",
      "                                                                 \n",
      "=================================================================\n",
      "Total params: 21387823 (81.59 MB)\n",
      "Trainable params: 526343 (2.01 MB)\n",
      "Non-trainable params: 20861480 (79.58 MB)\n",
      "_________________________________________________________________\n"
     ]
    }
   ],
   "source": [
    "model = Sequential()\n",
    "\n",
    "base_model = Xception(weights='imagenet', include_top=False, input_shape=(100, 100, 3))\n",
    "\n",
    "# Freeze the layers of the base model\n",
    "base_model.trainable = False\n",
    "\n",
    "# Create a Sequential model\n",
    "model = keras.Sequential()\n",
    "\n",
    "# Add the Xception base model\n",
    "model.add(base_model)\n",
    "\n",
    "# Add additional layers on top of the base model\n",
    "model.add(layers.GlobalAveragePooling2D())\n",
    "model.add(layers.Dense(256, activation='relu'))\n",
    "model.add(layers.Dropout(0.5))\n",
    "model.add(layers.Dense(7, activation='softmax'))\n",
    "\n",
    "# Compile the model\n",
    "model.compile(optimizer=keras.optimizers.Adam(lr=0.0001),\n",
    "              loss='categorical_crossentropy',\n",
    "              metrics=['accuracy'])\n",
    "\n",
    "# Display the model summary\n",
    "model.summary()\n"
   ]
  },
  {
   "cell_type": "code",
   "execution_count": 5,
   "id": "63fb064a",
   "metadata": {},
   "outputs": [
    {
     "name": "stdout",
     "output_type": "stream",
     "text": [
      "Epoch 1/10\n",
      "WARNING:tensorflow:From C:\\Users\\himan\\anaconda3\\Lib\\site-packages\\keras\\src\\utils\\tf_utils.py:492: The name tf.ragged.RaggedTensorValue is deprecated. Please use tf.compat.v1.ragged.RaggedTensorValue instead.\n",
      "\n"
     ]
    },
    {
     "name": "stderr",
     "output_type": "stream",
     "text": [
      "WARNING:tensorflow:From C:\\Users\\himan\\anaconda3\\Lib\\site-packages\\keras\\src\\utils\\tf_utils.py:492: The name tf.ragged.RaggedTensorValue is deprecated. Please use tf.compat.v1.ragged.RaggedTensorValue instead.\n",
      "\n"
     ]
    },
    {
     "name": "stdout",
     "output_type": "stream",
     "text": [
      "WARNING:tensorflow:From C:\\Users\\himan\\anaconda3\\Lib\\site-packages\\keras\\src\\engine\\base_layer_utils.py:384: The name tf.executing_eagerly_outside_functions is deprecated. Please use tf.compat.v1.executing_eagerly_outside_functions instead.\n",
      "\n"
     ]
    },
    {
     "name": "stderr",
     "output_type": "stream",
     "text": [
      "WARNING:tensorflow:From C:\\Users\\himan\\anaconda3\\Lib\\site-packages\\keras\\src\\engine\\base_layer_utils.py:384: The name tf.executing_eagerly_outside_functions is deprecated. Please use tf.compat.v1.executing_eagerly_outside_functions instead.\n",
      "\n"
     ]
    },
    {
     "name": "stdout",
     "output_type": "stream",
     "text": [
      "56/56 [==============================] - 81s 1s/step - loss: 0.9623 - accuracy: 0.6605 - val_loss: 0.6598 - val_accuracy: 0.7478\n",
      "Epoch 2/10\n",
      "56/56 [==============================] - 57s 1s/step - loss: 0.6484 - accuracy: 0.7710 - val_loss: 0.5072 - val_accuracy: 0.8214\n",
      "Epoch 3/10\n",
      "56/56 [==============================] - 57s 998ms/step - loss: 0.5291 - accuracy: 0.8070 - val_loss: 0.5675 - val_accuracy: 0.7991\n",
      "Epoch 4/10\n",
      "56/56 [==============================] - 57s 1s/step - loss: 0.5221 - accuracy: 0.8081 - val_loss: 0.5665 - val_accuracy: 0.8281\n",
      "Epoch 5/10\n",
      "56/56 [==============================] - 57s 1s/step - loss: 0.5070 - accuracy: 0.8154 - val_loss: 0.4915 - val_accuracy: 0.8170\n",
      "Epoch 6/10\n",
      "56/56 [==============================] - 54s 954ms/step - loss: 0.4647 - accuracy: 0.8356 - val_loss: 0.4218 - val_accuracy: 0.8371\n",
      "Epoch 7/10\n",
      "56/56 [==============================] - 57s 1s/step - loss: 0.4238 - accuracy: 0.8468 - val_loss: 0.4514 - val_accuracy: 0.8259\n",
      "Epoch 8/10\n",
      "56/56 [==============================] - 53s 942ms/step - loss: 0.4142 - accuracy: 0.8423 - val_loss: 0.4942 - val_accuracy: 0.8080\n",
      "Epoch 9/10\n",
      "56/56 [==============================] - 54s 971ms/step - loss: 0.3952 - accuracy: 0.8530 - val_loss: 0.4461 - val_accuracy: 0.8460\n",
      "Epoch 10/10\n",
      "56/56 [==============================] - 60s 1s/step - loss: 0.4085 - accuracy: 0.8586 - val_loss: 0.4649 - val_accuracy: 0.8460\n"
     ]
    }
   ],
   "source": [
    "class myCallback(tf.keras.callbacks.Callback):\n",
    "    def on_epoch_end(self, epoch, logs={}):\n",
    "        if(logs.get('val_accuracy') >= 0.997):\n",
    "            print(\"\\nReached 99.7% accuracy so cancelling training!\")\n",
    "            self.model.stop_training = True\n",
    "\n",
    "early = tf.keras.callbacks.EarlyStopping(monitor='val_accuracy', patience=3, mode='max',\n",
    "                                        restore_best_weights=True)\n",
    "            \n",
    "history = model.fit(train_generator, validation_data=valid_generator,\n",
    "                   steps_per_epoch=train_generator.n//train_generator.batch_size,\n",
    "                   validation_steps=valid_generator.n//valid_generator.batch_size,\n",
    "                    callbacks=[early],\n",
    "                   epochs=10)\n"
   ]
  },
  {
   "cell_type": "code",
   "execution_count": 6,
   "id": "3875d87d",
   "metadata": {},
   "outputs": [
    {
     "data": {
      "image/png": "[encoded data removed]",
      "text/plain": [
       "<Figure size 640x480 with 1 Axes>"
      ]
     },
     "metadata": {},
     "output_type": "display_data"
    },
    {
     "data": {
      "image/png": "[encoded data removed]",
      "text/plain": [
       "<Figure size 640x480 with 1 Axes>"
      ]
     },
     "metadata": {},
     "output_type": "display_data"
    }
   ],
   "source": [
    "plt.plot(history.history['loss'])\n",
    "plt.plot(history.history['val_loss'])\n",
    "plt.xlabel('Epoch')\n",
    "plt.ylabel('Loss')\n",
    "plt.show()\n",
    "\n",
    "plt.plot(history.history['accuracy'])\n",
    "plt.plot(history.history['val_accuracy'])\n",
    "plt.xlabel('Epoch')\n",
    "plt.ylabel('Accuracy')\n",
    "plt.show()"
   ]
  },
  {
   "cell_type": "code",
   "execution_count": 7,
   "id": "ef79d7f6",
   "metadata": {},
   "outputs": [
    {
     "name": "stdout",
     "output_type": "stream",
     "text": [
      "1/1 [==============================] - 8s 8s/step\n",
      "Predicted class: 0\n"
     ]
    }
   ],
   "source": [
    "from keras.preprocessing import image\n",
    "import numpy as np\n",
    "# Load and preprocess a new image for prediction\n",
    "img_path = 'C:\\\\Users\\\\himan\\\\OneDrive\\\\Documents\\\\test_image.jpg'\n",
    "img = image.load_img(img_path, target_size=(100, 100))\n",
    "img_array = image.img_to_array(img)\n",
    "img_array = np.expand_dims(img_array, axis=0)\n",
    "img_array /= 255.0  # Normalize pixel values to be between 0 and 1\n",
    "\n",
    "# Make a prediction\n",
    "predictions = model.predict(img_array)\n",
    "\n",
    "# Get the predicted class (assuming a classification task)\n",
    "predicted_class = np.argmax(predictions[0])\n",
    "\n",
    "# Print the predicted class\n",
    "print(f\"Predicted class: {predicted_class}\")"
   ]
  },
  {
   "cell_type": "code",
   "execution_count": 8,
   "id": "c17a9c65",
   "metadata": {},
   "outputs": [
    {
     "name": "stdout",
     "output_type": "stream",
     "text": [
      "1/1 [==============================] - 0s 278ms/step\n",
      "Predicted class: 4\n"
     ]
    }
   ],
   "source": [
    "from keras.preprocessing import image\n",
    "import numpy as np\n",
    "# Load and preprocess a new image for prediction\n",
    "img_path = 'C:\\\\Users\\\\himan\\\\OneDrive\\\\Documents\\\\test_image1.jpg'\n",
    "img = image.load_img(img_path, target_size=(100, 100))\n",
    "img_array = image.img_to_array(img)\n",
    "img_array = np.expand_dims(img_array, axis=0)\n",
    "img_array /= 255.0  # Normalize pixel values to be between 0 and 1\n",
    "\n",
    "# Make a prediction\n",
    "predictions = model.predict(img_array)\n",
    "\n",
    "# Get the predicted class (assuming a classification task)\n",
    "predicted_class = np.argmax(predictions[0])\n",
    "\n",
    "# Print the predicted class\n",
    "print(f\"Predicted class: {predicted_class}\")"
   ]
  },
  {
   "cell_type": "code",
   "execution_count": 9,
   "id": "54a81fb0",
   "metadata": {},
   "outputs": [
    {
     "name": "stdout",
     "output_type": "stream",
     "text": [
      "1/1 [==============================] - 0s 313ms/step\n",
      "Predicted class: 6\n"
     ]
    }
   ],
   "source": [
    "from keras.preprocessing import image\n",
    "import numpy as np\n",
    "# Load and preprocess a new image for prediction\n",
    "img_path = 'C:\\\\Users\\\\himan\\\\OneDrive\\\\Documents\\\\test_image2.jpg'\n",
    "img = image.load_img(img_path, target_size=(100, 100))\n",
    "img_array = image.img_to_array(img)\n",
    "img_array = np.expand_dims(img_array, axis=0)\n",
    "img_array /= 255.0  # Normalize pixel values to be between 0 and 1\n",
    "\n",
    "# Make a prediction\n",
    "predictions = model.predict(img_array)\n",
    "\n",
    "# Get the predicted class (assuming a classification task)\n",
    "predicted_class = np.argmax(predictions[0])\n",
    "\n",
    "# Print the predicted class\n",
    "print(f\"Predicted class: {predicted_class}\")"
   ]
  },
  {
   "cell_type": "code",
   "execution_count": 10,
   "id": "006a3f8e",
   "metadata": {},
   "outputs": [
    {
     "name": "stdout",
     "output_type": "stream",
     "text": [
      "1/1 [==============================] - 0s 266ms/step\n",
      "Predicted class: 3\n"
     ]
    }
   ],
   "source": [
    "from keras.preprocessing import image\n",
    "import numpy as np\n",
    "# Load and preprocess a new image for prediction\n",
    "img_path = 'C:\\\\Users\\\\himan\\\\OneDrive\\\\Documents\\\\test_image3.jpg'\n",
    "img = image.load_img(img_path, target_size=(100, 100))\n",
    "img_array = image.img_to_array(img)\n",
    "img_array = np.expand_dims(img_array, axis=0)\n",
    "img_array /= 255.0  # Normalize pixel values to be between 0 and 1\n",
    "\n",
    "# Make a prediction\n",
    "predictions = model.predict(img_array)\n",
    "\n",
    "# Get the predicted class (assuming a classification task)\n",
    "predicted_class = np.argmax(predictions[0])\n",
    "\n",
    "# Print the predicted class\n",
    "print(f\"Predicted class: {predicted_class}\")"
   ]
  },
  {
   "cell_type": "code",
   "execution_count": 11,
   "id": "ca4aec59",
   "metadata": {},
   "outputs": [
    {
     "name": "stdout",
     "output_type": "stream",
     "text": [
      "1/1 [==============================] - 0s 288ms/step\n",
      "Predicted class: 0\n"
     ]
    }
   ],
   "source": [
    "from keras.preprocessing import image\n",
    "import numpy as np\n",
    "# Load and preprocess a new image for prediction\n",
    "img_path = 'Downloads\\\\img_test.jpg'\n",
    "img = image.load_img(img_path, target_size=(100, 100))\n",
    "img_array = image.img_to_array(img)\n",
    "img_array = np.expand_dims(img_array, axis=0)\n",
    "img_array /= 255.0  # Normalize pixel values to be between 0 and 1\n",
    "\n",
    "# Make a prediction\n",
    "predictions = model.predict(img_array)\n",
    "\n",
    "# Get the predicted class (assuming a classification task)\n",
    "predicted_class = np.argmax(predictions[0])\n",
    "\n",
    "# Print the predicted class\n",
    "print(f\"Predicted class: {predicted_class}\")"
   ]
  },
  {
   "cell_type": "code",
   "execution_count": null,
   "id": "f797cd4a",
   "metadata": {},
   "outputs": [],
   "source": []
  }
 ],
 "metadata": {
  "kernelspec": {
   "display_name": "Python 3 (ipykernel)",
   "language": "python",
   "name": "python3"
  },
  "language_info": {
   "codemirror_mode": {
    "name": "ipython",
    "version": 3
   },
   "file_extension": ".py",
   "mimetype": "text/x-python",
   "name": "python",
   "nbconvert_exporter": "python",
   "pygments_lexer": "ipython3",
   "version": "3.11.5"
  }
 },
 "nbformat": 4,
 "nbformat_minor": 5
}
